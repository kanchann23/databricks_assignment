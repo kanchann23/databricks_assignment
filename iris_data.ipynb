{
 "cells": [
  {
   "cell_type": "code",
   "execution_count": 0,
   "metadata": {
    "application/vnd.databricks.v1+cell": {
     "cellMetadata": {
      "byteLimit": 2048000,
      "rowLimit": 10000
     },
     "inputWidgets": {},
     "nuid": "a64c2952-1ba6-498f-b1af-3f2b5d8a1077",
     "showTitle": false,
     "title": ""
    }
   },
   "outputs": [],
   "source": [
    "from pyspark.sql import SparkSession\n",
    "from pyspark.ml.feature import StringIndexer\n",
    "from pyspark.ml.feature import VectorAssembler\n",
    "from pyspark.ml.classification import LogisticRegression\n",
    "from pyspark.ml.evaluation import MulticlassClassificationEvaluator\n",
    "from pyspark.ml.classification import RandomForestClassifier\n",
    "from pyspark.ml import PipelineModel\n",
    "\n",
    "\n",
    "\n",
    "# Create a Spark session\n",
    "spark = SparkSession.builder.appName(\"IrisDataset\").getOrCreate()\n",
    "\n",
    "# Read the CSV file\n",
    "data = spark.read.csv(\"/FileStore/tables/iris_2_.csv\", header=True, inferSchema=True)\n"
   ]
  },
  {
   "cell_type": "code",
   "execution_count": 0,
   "metadata": {
    "application/vnd.databricks.v1+cell": {
     "cellMetadata": {
      "byteLimit": 2048000,
      "rowLimit": 10000
     },
     "inputWidgets": {},
     "nuid": "b44b6edb-6e36-4639-85ac-46143b113bf4",
     "showTitle": false,
     "title": ""
    }
   },
   "outputs": [
    {
     "output_type": "stream",
     "name": "stdout",
     "output_type": "stream",
     "text": [
      "+------------+-----------+------------+-----------+-------+---------------+\n|sepal_length|sepal_width|petal_length|petal_width|species|species_numeric|\n+------------+-----------+------------+-----------+-------+---------------+\n|         5.1|        3.5|         1.4|        0.2| setosa|            0.0|\n|         4.9|        3.0|         1.4|        0.2| setosa|            0.0|\n|         4.7|        3.2|         1.3|        0.2| setosa|            0.0|\n|         4.6|        3.1|         1.5|        0.2| setosa|            0.0|\n|         5.0|        3.6|         1.4|        0.2| setosa|            0.0|\n|         5.4|        3.9|         1.7|        0.4| setosa|            0.0|\n|         4.6|        3.4|         1.4|        0.3| setosa|            0.0|\n|         5.0|        3.4|         1.5|        0.2| setosa|            0.0|\n|         4.4|        2.9|         1.4|        0.2| setosa|            0.0|\n|         4.9|        3.1|         1.5|        0.1| setosa|            0.0|\n|         5.4|        3.7|         1.5|        0.2| setosa|            0.0|\n|         4.8|        3.4|         1.6|        0.2| setosa|            0.0|\n|         4.8|        3.0|         1.4|        0.1| setosa|            0.0|\n|         4.3|        3.0|         1.1|        0.1| setosa|            0.0|\n|         5.8|        4.0|         1.2|        0.2| setosa|            0.0|\n|         5.7|        4.4|         1.5|        0.4| setosa|            0.0|\n|         5.4|        3.9|         1.3|        0.4| setosa|            0.0|\n|         5.1|        3.5|         1.4|        0.3| setosa|            0.0|\n|         5.7|        3.8|         1.7|        0.3| setosa|            0.0|\n|         5.1|        3.8|         1.5|        0.3| setosa|            0.0|\n+------------+-----------+------------+-----------+-------+---------------+\nonly showing top 20 rows\n\n"
     ]
    }
   ],
   "source": [
    "string_indexer = StringIndexer(inputCol=\"species\", outputCol=\"species_numeric\")\n",
    "\n",
    "\n",
    "\n",
    "# Fit and transform the data\n",
    "data = string_indexer.fit(data).transform(data)\n",
    "\n",
    "# Show the transformed data\n",
    "data.show()\n",
    "\n",
    "\n",
    "\n"
   ]
  },
  {
   "cell_type": "code",
   "execution_count": 0,
   "metadata": {
    "application/vnd.databricks.v1+cell": {
     "cellMetadata": {
      "byteLimit": 2048000,
      "rowLimit": 10000
     },
     "inputWidgets": {},
     "nuid": "6aee12c4-58ed-4a6d-b73b-57f5f1ab08e3",
     "showTitle": false,
     "title": ""
    }
   },
   "outputs": [],
   "source": [
    "feature_cols = [\"sepal_length\", \"sepal_width\", \"petal_length\", \"petal_width\"]\n",
    "\n",
    "# Create a VectorAssembler to assemble the features\n",
    "assembler = VectorAssembler(inputCols=feature_cols, outputCol=\"features\")\n",
    "\n",
    "# Transform the data by applying the VectorAssembler\n",
    "assembled_data = assembler.transform(data)\n"
   ]
  },
  {
   "cell_type": "code",
   "execution_count": 0,
   "metadata": {
    "application/vnd.databricks.v1+cell": {
     "cellMetadata": {
      "byteLimit": 2048000,
      "rowLimit": 10000
     },
     "inputWidgets": {},
     "nuid": "b04d85e9-16a5-4c47-bab9-760cb6e420da",
     "showTitle": false,
     "title": ""
    }
   },
   "outputs": [
    {
     "output_type": "stream",
     "name": "stdout",
     "output_type": "stream",
     "text": [
      "Train data size: 126\nTest data size: 24\n"
     ]
    }
   ],
   "source": [
    "train_data, test_data = assembled_data.randomSplit([0.8, 0.2], seed=42)\n",
    "\n",
    "# Show the sizes of train and test sets\n",
    "print(\"Train data size:\", train_data.count())\n",
    "print(\"Test data size:\", test_data.count())\n"
   ]
  },
  {
   "cell_type": "code",
   "execution_count": 0,
   "metadata": {
    "application/vnd.databricks.v1+cell": {
     "cellMetadata": {
      "byteLimit": 2048000,
      "rowLimit": 10000
     },
     "inputWidgets": {},
     "nuid": "33c4d728-f9c3-457d-9ac0-0182c7f9c90c",
     "showTitle": false,
     "title": ""
    }
   },
   "outputs": [],
   "source": [
    "lr = LogisticRegression(featuresCol=\"features\", labelCol=\"species_numeric\", maxIter=10)\n",
    "\n",
    "# Train the model\n",
    "lr_model = lr.fit(train_data)\n",
    "\n",
    "# Make predictions on the test data\n",
    "predictions = lr_model.transform(test_data)"
   ]
  },
  {
   "cell_type": "code",
   "execution_count": 0,
   "metadata": {
    "application/vnd.databricks.v1+cell": {
     "cellMetadata": {
      "byteLimit": 2048000,
      "rowLimit": 10000
     },
     "inputWidgets": {},
     "nuid": "b41dd338-14f5-4efc-9882-224339c8b5a6",
     "showTitle": false,
     "title": ""
    }
   },
   "outputs": [
    {
     "output_type": "stream",
     "name": "stdout",
     "output_type": "stream",
     "text": [
      "Logistic Regression Accuracy: 1.0\n"
     ]
    }
   ],
   "source": [
    "# Evaluate the model's performance\n",
    "evaluator = MulticlassClassificationEvaluator(\n",
    "    labelCol=\"species_numeric\", predictionCol=\"prediction\", metricName=\"accuracy\"\n",
    ")\n",
    "accuracy = evaluator.evaluate(predictions)\n",
    "\n",
    "print(\"Logistic Regression Accuracy:\", accuracy)"
   ]
  },
  {
   "cell_type": "code",
   "execution_count": 0,
   "metadata": {
    "application/vnd.databricks.v1+cell": {
     "cellMetadata": {
      "byteLimit": 2048000,
      "rowLimit": 10000
     },
     "inputWidgets": {},
     "nuid": "19dbcdc9-679b-4765-84ba-ae5fcf6e5a49",
     "showTitle": false,
     "title": ""
    }
   },
   "outputs": [
    {
     "output_type": "stream",
     "name": "stdout",
     "output_type": "stream",
     "text": [
      "Random Forest Accuracy: 0.9583333333333334\n"
     ]
    }
   ],
   "source": [
    "# by using  Random Forest model\n",
    "rf = RandomForestClassifier(featuresCol=\"features\", labelCol=\"species_numeric\", numTrees=100)\n",
    "\n",
    "# Train the model\n",
    "rf_model = rf.fit(train_data)\n",
    "\n",
    "# Make predictions on the test data\n",
    "predictions = rf_model.transform(test_data)\n",
    "\n",
    "# Evaluate the model's performance\n",
    "evaluator = MulticlassClassificationEvaluator(\n",
    "    labelCol=\"species_numeric\", predictionCol=\"prediction\", metricName=\"accuracy\"\n",
    ")\n",
    "accuracy = evaluator.evaluate(predictions)\n",
    "\n",
    "print(\"Random Forest Accuracy:\", accuracy)\n",
    "\n",
    "\n",
    "\n"
   ]
  },
  {
   "cell_type": "code",
   "execution_count": 0,
   "metadata": {
    "application/vnd.databricks.v1+cell": {
     "cellMetadata": {},
     "inputWidgets": {},
     "nuid": "d79d1e84-1c3e-4efe-b5cb-5f4adced3ef6",
     "showTitle": false,
     "title": ""
    }
   },
   "outputs": [],
   "source": []
  }
 ],
 "metadata": {
  "application/vnd.databricks.v1+notebook": {
   "dashboards": [],
   "language": "python",
   "notebookMetadata": {
    "pythonIndentUnit": 4
   },
   "notebookName": "iris_data",
   "widgets": {}
  }
 },
 "nbformat": 4,
 "nbformat_minor": 0
}
